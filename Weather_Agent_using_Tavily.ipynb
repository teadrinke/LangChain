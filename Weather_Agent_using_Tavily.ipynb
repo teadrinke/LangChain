{
  "nbformat": 4,
  "nbformat_minor": 0,
  "metadata": {
    "colab": {
      "provenance": []
    },
    "kernelspec": {
      "name": "python3",
      "display_name": "Python 3"
    },
    "language_info": {
      "name": "python"
    }
  },
  "cells": [
    {
      "cell_type": "code",
      "execution_count": null,
      "metadata": {
        "colab": {
          "base_uri": "https://localhost:8080/"
        },
        "id": "JTrCrbnamWXq",
        "outputId": "ebe38f6c-c1af-4789-8d5c-cffc19f064bf"
      },
      "outputs": [
        {
          "output_type": "stream",
          "name": "stdout",
          "text": [
            "Collecting langchain-community\n",
            "  Downloading langchain_community-0.3.12-py3-none-any.whl.metadata (2.9 kB)\n",
            "Collecting langgraph\n",
            "  Downloading langgraph-0.2.59-py3-none-any.whl.metadata (15 kB)\n",
            "Collecting langchain-anthropic\n",
            "  Downloading langchain_anthropic-0.3.0-py3-none-any.whl.metadata (2.3 kB)\n",
            "Collecting tavily-python\n",
            "  Downloading tavily_python-0.5.0-py3-none-any.whl.metadata (11 kB)\n",
            "Collecting langgraph-checkpoint-sqlite\n",
            "  Downloading langgraph_checkpoint_sqlite-2.0.1-py3-none-any.whl.metadata (3.0 kB)\n",
            "Requirement already satisfied: PyYAML>=5.3 in /usr/local/lib/python3.10/dist-packages (from langchain-community) (6.0.2)\n",
            "Requirement already satisfied: SQLAlchemy<3,>=1.4 in /usr/local/lib/python3.10/dist-packages (from langchain-community) (2.0.36)\n",
            "Requirement already satisfied: aiohttp<4.0.0,>=3.8.3 in /usr/local/lib/python3.10/dist-packages (from langchain-community) (3.11.10)\n",
            "Collecting dataclasses-json<0.7,>=0.5.7 (from langchain-community)\n",
            "  Downloading dataclasses_json-0.6.7-py3-none-any.whl.metadata (25 kB)\n",
            "Collecting httpx-sse<0.5.0,>=0.4.0 (from langchain-community)\n",
            "  Downloading httpx_sse-0.4.0-py3-none-any.whl.metadata (9.0 kB)\n",
            "Collecting langchain<0.4.0,>=0.3.12 (from langchain-community)\n",
            "  Downloading langchain-0.3.12-py3-none-any.whl.metadata (7.1 kB)\n",
            "Collecting langchain-core<0.4.0,>=0.3.25 (from langchain-community)\n",
            "  Downloading langchain_core-0.3.25-py3-none-any.whl.metadata (6.3 kB)\n",
            "Requirement already satisfied: langsmith<0.3,>=0.1.125 in /usr/local/lib/python3.10/dist-packages (from langchain-community) (0.2.3)\n",
            "Requirement already satisfied: numpy<2,>=1.22.4 in /usr/local/lib/python3.10/dist-packages (from langchain-community) (1.26.4)\n",
            "Collecting pydantic-settings<3.0.0,>=2.4.0 (from langchain-community)\n",
            "  Downloading pydantic_settings-2.7.0-py3-none-any.whl.metadata (3.5 kB)\n",
            "Requirement already satisfied: requests<3,>=2 in /usr/local/lib/python3.10/dist-packages (from langchain-community) (2.32.3)\n",
            "Requirement already satisfied: tenacity!=8.4.0,<10,>=8.1.0 in /usr/local/lib/python3.10/dist-packages (from langchain-community) (9.0.0)\n",
            "Collecting langgraph-checkpoint<3.0.0,>=2.0.4 (from langgraph)\n",
            "  Downloading langgraph_checkpoint-2.0.9-py3-none-any.whl.metadata (4.6 kB)\n",
            "Collecting langgraph-sdk<0.2.0,>=0.1.42 (from langgraph)\n",
            "  Downloading langgraph_sdk-0.1.47-py3-none-any.whl.metadata (1.8 kB)\n",
            "Collecting anthropic<1,>=0.39.0 (from langchain-anthropic)\n",
            "  Downloading anthropic-0.42.0-py3-none-any.whl.metadata (23 kB)\n",
            "Requirement already satisfied: defusedxml<0.8.0,>=0.7.1 in /usr/local/lib/python3.10/dist-packages (from langchain-anthropic) (0.7.1)\n",
            "Requirement already satisfied: pydantic<3.0.0,>=2.7.4 in /usr/local/lib/python3.10/dist-packages (from langchain-anthropic) (2.10.3)\n",
            "Collecting tiktoken>=0.5.1 (from tavily-python)\n",
            "  Downloading tiktoken-0.8.0-cp310-cp310-manylinux_2_17_x86_64.manylinux2014_x86_64.whl.metadata (6.6 kB)\n",
            "Requirement already satisfied: httpx in /usr/local/lib/python3.10/dist-packages (from tavily-python) (0.28.1)\n",
            "Collecting aiosqlite<0.21.0,>=0.20.0 (from langgraph-checkpoint-sqlite)\n",
            "  Downloading aiosqlite-0.20.0-py3-none-any.whl.metadata (4.3 kB)\n",
            "Requirement already satisfied: aiohappyeyeballs>=2.3.0 in /usr/local/lib/python3.10/dist-packages (from aiohttp<4.0.0,>=3.8.3->langchain-community) (2.4.4)\n",
            "Requirement already satisfied: aiosignal>=1.1.2 in /usr/local/lib/python3.10/dist-packages (from aiohttp<4.0.0,>=3.8.3->langchain-community) (1.3.2)\n",
            "Requirement already satisfied: async-timeout<6.0,>=4.0 in /usr/local/lib/python3.10/dist-packages (from aiohttp<4.0.0,>=3.8.3->langchain-community) (4.0.3)\n",
            "Requirement already satisfied: attrs>=17.3.0 in /usr/local/lib/python3.10/dist-packages (from aiohttp<4.0.0,>=3.8.3->langchain-community) (24.2.0)\n",
            "Requirement already satisfied: frozenlist>=1.1.1 in /usr/local/lib/python3.10/dist-packages (from aiohttp<4.0.0,>=3.8.3->langchain-community) (1.5.0)\n",
            "Requirement already satisfied: multidict<7.0,>=4.5 in /usr/local/lib/python3.10/dist-packages (from aiohttp<4.0.0,>=3.8.3->langchain-community) (6.1.0)\n",
            "Requirement already satisfied: propcache>=0.2.0 in /usr/local/lib/python3.10/dist-packages (from aiohttp<4.0.0,>=3.8.3->langchain-community) (0.2.1)\n",
            "Requirement already satisfied: yarl<2.0,>=1.17.0 in /usr/local/lib/python3.10/dist-packages (from aiohttp<4.0.0,>=3.8.3->langchain-community) (1.18.3)\n",
            "Requirement already satisfied: typing_extensions>=4.0 in /usr/local/lib/python3.10/dist-packages (from aiosqlite<0.21.0,>=0.20.0->langgraph-checkpoint-sqlite) (4.12.2)\n",
            "Requirement already satisfied: anyio<5,>=3.5.0 in /usr/local/lib/python3.10/dist-packages (from anthropic<1,>=0.39.0->langchain-anthropic) (3.7.1)\n",
            "Requirement already satisfied: distro<2,>=1.7.0 in /usr/local/lib/python3.10/dist-packages (from anthropic<1,>=0.39.0->langchain-anthropic) (1.9.0)\n",
            "Requirement already satisfied: jiter<1,>=0.4.0 in /usr/local/lib/python3.10/dist-packages (from anthropic<1,>=0.39.0->langchain-anthropic) (0.8.2)\n",
            "Requirement already satisfied: sniffio in /usr/local/lib/python3.10/dist-packages (from anthropic<1,>=0.39.0->langchain-anthropic) (1.3.1)\n",
            "Collecting marshmallow<4.0.0,>=3.18.0 (from dataclasses-json<0.7,>=0.5.7->langchain-community)\n",
            "  Downloading marshmallow-3.23.1-py3-none-any.whl.metadata (7.5 kB)\n",
            "Collecting typing-inspect<1,>=0.4.0 (from dataclasses-json<0.7,>=0.5.7->langchain-community)\n",
            "  Downloading typing_inspect-0.9.0-py3-none-any.whl.metadata (1.5 kB)\n",
            "Requirement already satisfied: certifi in /usr/local/lib/python3.10/dist-packages (from httpx->tavily-python) (2024.8.30)\n",
            "Requirement already satisfied: httpcore==1.* in /usr/local/lib/python3.10/dist-packages (from httpx->tavily-python) (1.0.7)\n",
            "Requirement already satisfied: idna in /usr/local/lib/python3.10/dist-packages (from httpx->tavily-python) (3.10)\n",
            "Requirement already satisfied: h11<0.15,>=0.13 in /usr/local/lib/python3.10/dist-packages (from httpcore==1.*->httpx->tavily-python) (0.14.0)\n",
            "Collecting langchain-text-splitters<0.4.0,>=0.3.3 (from langchain<0.4.0,>=0.3.12->langchain-community)\n",
            "  Downloading langchain_text_splitters-0.3.3-py3-none-any.whl.metadata (2.3 kB)\n",
            "Requirement already satisfied: jsonpatch<2.0,>=1.33 in /usr/local/lib/python3.10/dist-packages (from langchain-core<0.4.0,>=0.3.25->langchain-community) (1.33)\n",
            "Requirement already satisfied: packaging<25,>=23.2 in /usr/local/lib/python3.10/dist-packages (from langchain-core<0.4.0,>=0.3.25->langchain-community) (24.2)\n",
            "Requirement already satisfied: msgpack<2.0.0,>=1.1.0 in /usr/local/lib/python3.10/dist-packages (from langgraph-checkpoint<3.0.0,>=2.0.4->langgraph) (1.1.0)\n",
            "Requirement already satisfied: orjson>=3.10.1 in /usr/local/lib/python3.10/dist-packages (from langgraph-sdk<0.2.0,>=0.1.42->langgraph) (3.10.12)\n",
            "Requirement already satisfied: requests-toolbelt<2.0.0,>=1.0.0 in /usr/local/lib/python3.10/dist-packages (from langsmith<0.3,>=0.1.125->langchain-community) (1.0.0)\n",
            "Requirement already satisfied: annotated-types>=0.6.0 in /usr/local/lib/python3.10/dist-packages (from pydantic<3.0.0,>=2.7.4->langchain-anthropic) (0.7.0)\n",
            "Requirement already satisfied: pydantic-core==2.27.1 in /usr/local/lib/python3.10/dist-packages (from pydantic<3.0.0,>=2.7.4->langchain-anthropic) (2.27.1)\n",
            "Collecting python-dotenv>=0.21.0 (from pydantic-settings<3.0.0,>=2.4.0->langchain-community)\n",
            "  Downloading python_dotenv-1.0.1-py3-none-any.whl.metadata (23 kB)\n",
            "Requirement already satisfied: charset-normalizer<4,>=2 in /usr/local/lib/python3.10/dist-packages (from requests<3,>=2->langchain-community) (3.4.0)\n",
            "Requirement already satisfied: urllib3<3,>=1.21.1 in /usr/local/lib/python3.10/dist-packages (from requests<3,>=2->langchain-community) (2.2.3)\n",
            "Requirement already satisfied: greenlet!=0.4.17 in /usr/local/lib/python3.10/dist-packages (from SQLAlchemy<3,>=1.4->langchain-community) (3.1.1)\n",
            "Requirement already satisfied: regex>=2022.1.18 in /usr/local/lib/python3.10/dist-packages (from tiktoken>=0.5.1->tavily-python) (2024.9.11)\n",
            "Requirement already satisfied: exceptiongroup in /usr/local/lib/python3.10/dist-packages (from anyio<5,>=3.5.0->anthropic<1,>=0.39.0->langchain-anthropic) (1.2.2)\n",
            "Requirement already satisfied: jsonpointer>=1.9 in /usr/local/lib/python3.10/dist-packages (from jsonpatch<2.0,>=1.33->langchain-core<0.4.0,>=0.3.25->langchain-community) (3.0.0)\n",
            "Collecting mypy-extensions>=0.3.0 (from typing-inspect<1,>=0.4.0->dataclasses-json<0.7,>=0.5.7->langchain-community)\n",
            "  Downloading mypy_extensions-1.0.0-py3-none-any.whl.metadata (1.1 kB)\n",
            "Downloading langchain_community-0.3.12-py3-none-any.whl (2.5 MB)\n",
            "\u001b[2K   \u001b[90m━━━━━━━━━━━━━━━━━━━━━━━━━━━━━━━━━━━━━━━━\u001b[0m \u001b[32m2.5/2.5 MB\u001b[0m \u001b[31m28.3 MB/s\u001b[0m eta \u001b[36m0:00:00\u001b[0m\n",
            "\u001b[?25hDownloading langgraph-0.2.59-py3-none-any.whl (135 kB)\n",
            "\u001b[2K   \u001b[90m━━━━━━━━━━━━━━━━━━━━━━━━━━━━━━━━━━━━━━━━\u001b[0m \u001b[32m135.8/135.8 kB\u001b[0m \u001b[31m9.4 MB/s\u001b[0m eta \u001b[36m0:00:00\u001b[0m\n",
            "\u001b[?25hDownloading langchain_anthropic-0.3.0-py3-none-any.whl (22 kB)\n",
            "Downloading tavily_python-0.5.0-py3-none-any.whl (14 kB)\n",
            "Downloading langgraph_checkpoint_sqlite-2.0.1-py3-none-any.whl (12 kB)\n",
            "Downloading aiosqlite-0.20.0-py3-none-any.whl (15 kB)\n",
            "Downloading anthropic-0.42.0-py3-none-any.whl (203 kB)\n",
            "\u001b[2K   \u001b[90m━━━━━━━━━━━━━━━━━━━━━━━━━━━━━━━━━━━━━━━━\u001b[0m \u001b[32m203.4/203.4 kB\u001b[0m \u001b[31m12.8 MB/s\u001b[0m eta \u001b[36m0:00:00\u001b[0m\n",
            "\u001b[?25hDownloading dataclasses_json-0.6.7-py3-none-any.whl (28 kB)\n",
            "Downloading httpx_sse-0.4.0-py3-none-any.whl (7.8 kB)\n",
            "Downloading langchain-0.3.12-py3-none-any.whl (1.0 MB)\n",
            "\u001b[2K   \u001b[90m━━━━━━━━━━━━━━━━━━━━━━━━━━━━━━━━━━━━━━━━\u001b[0m \u001b[32m1.0/1.0 MB\u001b[0m \u001b[31m36.4 MB/s\u001b[0m eta \u001b[36m0:00:00\u001b[0m\n",
            "\u001b[?25hDownloading langchain_core-0.3.25-py3-none-any.whl (411 kB)\n",
            "\u001b[2K   \u001b[90m━━━━━━━━━━━━━━━━━━━━━━━━━━━━━━━━━━━━━━━━\u001b[0m \u001b[32m411.2/411.2 kB\u001b[0m \u001b[31m21.0 MB/s\u001b[0m eta \u001b[36m0:00:00\u001b[0m\n",
            "\u001b[?25hDownloading langgraph_checkpoint-2.0.9-py3-none-any.whl (37 kB)\n",
            "Downloading langgraph_sdk-0.1.47-py3-none-any.whl (43 kB)\n",
            "\u001b[2K   \u001b[90m━━━━━━━━━━━━━━━━━━━━━━━━━━━━━━━━━━━━━━━━\u001b[0m \u001b[32m43.3/43.3 kB\u001b[0m \u001b[31m2.7 MB/s\u001b[0m eta \u001b[36m0:00:00\u001b[0m\n",
            "\u001b[?25hDownloading pydantic_settings-2.7.0-py3-none-any.whl (29 kB)\n",
            "Downloading tiktoken-0.8.0-cp310-cp310-manylinux_2_17_x86_64.manylinux2014_x86_64.whl (1.2 MB)\n",
            "\u001b[2K   \u001b[90m━━━━━━━━━━━━━━━━━━━━━━━━━━━━━━━━━━━━━━━━\u001b[0m \u001b[32m1.2/1.2 MB\u001b[0m \u001b[31m37.0 MB/s\u001b[0m eta \u001b[36m0:00:00\u001b[0m\n",
            "\u001b[?25hDownloading langchain_text_splitters-0.3.3-py3-none-any.whl (27 kB)\n",
            "Downloading marshmallow-3.23.1-py3-none-any.whl (49 kB)\n",
            "\u001b[2K   \u001b[90m━━━━━━━━━━━━━━━━━━━━━━━━━━━━━━━━━━━━━━━━\u001b[0m \u001b[32m49.5/49.5 kB\u001b[0m \u001b[31m3.1 MB/s\u001b[0m eta \u001b[36m0:00:00\u001b[0m\n",
            "\u001b[?25hDownloading python_dotenv-1.0.1-py3-none-any.whl (19 kB)\n",
            "Downloading typing_inspect-0.9.0-py3-none-any.whl (8.8 kB)\n",
            "Downloading mypy_extensions-1.0.0-py3-none-any.whl (4.7 kB)\n",
            "Installing collected packages: python-dotenv, mypy-extensions, marshmallow, httpx-sse, aiosqlite, typing-inspect, tiktoken, tavily-python, pydantic-settings, langgraph-sdk, dataclasses-json, anthropic, langchain-core, langgraph-checkpoint, langchain-text-splitters, langchain-anthropic, langgraph-checkpoint-sqlite, langgraph, langchain, langchain-community\n",
            "  Attempting uninstall: langchain-core\n",
            "    Found existing installation: langchain-core 0.3.24\n",
            "    Uninstalling langchain-core-0.3.24:\n",
            "      Successfully uninstalled langchain-core-0.3.24\n",
            "  Attempting uninstall: langchain-text-splitters\n",
            "    Found existing installation: langchain-text-splitters 0.3.2\n",
            "    Uninstalling langchain-text-splitters-0.3.2:\n",
            "      Successfully uninstalled langchain-text-splitters-0.3.2\n",
            "  Attempting uninstall: langchain\n",
            "    Found existing installation: langchain 0.3.11\n",
            "    Uninstalling langchain-0.3.11:\n",
            "      Successfully uninstalled langchain-0.3.11\n",
            "Successfully installed aiosqlite-0.20.0 anthropic-0.42.0 dataclasses-json-0.6.7 httpx-sse-0.4.0 langchain-0.3.12 langchain-anthropic-0.3.0 langchain-community-0.3.12 langchain-core-0.3.25 langchain-text-splitters-0.3.3 langgraph-0.2.59 langgraph-checkpoint-2.0.9 langgraph-checkpoint-sqlite-2.0.1 langgraph-sdk-0.1.47 marshmallow-3.23.1 mypy-extensions-1.0.0 pydantic-settings-2.7.0 python-dotenv-1.0.1 tavily-python-0.5.0 tiktoken-0.8.0 typing-inspect-0.9.0\n"
          ]
        }
      ],
      "source": [
        "!pip install -U langchain-community langgraph langchain-anthropic tavily-python langgraph-checkpoint-sqlite"
      ]
    },
    {
      "cell_type": "code",
      "source": [
        "import getpass\n",
        "import os\n",
        "\n",
        "os.environ['TAVILY_API_KEY'] = getpass.getpass()"
      ],
      "metadata": {
        "colab": {
          "base_uri": "https://localhost:8080/"
        },
        "id": "41CMkPgTnZC9",
        "outputId": "95199627-49fd-4e7e-a0e7-d8773bcfbffb"
      },
      "execution_count": null,
      "outputs": [
        {
          "name": "stdout",
          "output_type": "stream",
          "text": [
            "··········\n"
          ]
        }
      ]
    },
    {
      "cell_type": "code",
      "source": [
        "from langchain_community.tools.tavily_search import TavilySearchResults\n",
        "\n",
        "search = TavilySearchResults(max_results=2)\n",
        "search_results = search.invoke(\"What is weather in LA?\")\n",
        "print(search_results)\n",
        "tools = [search]"
      ],
      "metadata": {
        "colab": {
          "base_uri": "https://localhost:8080/"
        },
        "id": "3l1u6vTxoBnW",
        "outputId": "5fc1afad-9a2c-40e8-e7ae-5c1c37ee88eb"
      },
      "execution_count": null,
      "outputs": [
        {
          "output_type": "stream",
          "name": "stdout",
          "text": [
            "[{'url': 'https://www.weatherapi.com/', 'content': \"{'location': {'name': 'Los Angeles', 'region': 'California', 'country': 'United States of America', 'lat': 34.0522, 'lon': -118.2428, 'tz_id': 'America/Los_Angeles', 'localtime_epoch': 1734486862, 'localtime': '2024-12-17 17:54'}, 'current': {'last_updated_epoch': 1734486300, 'last_updated': '2024-12-17 17:45', 'temp_c': 22.2, 'temp_f': 72.0, 'is_day': 0, 'condition': {'text': 'Clear', 'icon': '//cdn.weatherapi.com/weather/64x64/night/113.png', 'code': 1000}, 'wind_mph': 3.1, 'wind_kph': 5.0, 'wind_degree': 262, 'wind_dir': 'W', 'pressure_mb': 1018.0, 'pressure_in': 30.06, 'precip_mm': 0.0, 'precip_in': 0.0, 'humidity': 25, 'cloud': 0, 'feelslike_c': 22.7, 'feelslike_f': 72.8, 'windchill_c': 24.3, 'windchill_f': 75.7, 'heatindex_c': 24.0, 'heatindex_f': 75.1, 'dewpoint_c': 3.1, 'dewpoint_f': 37.6, 'vis_km': 16.0, 'vis_miles': 9.0, 'uv': 0.0, 'gust_mph': 4.4, 'gust_kph': 7.1}}\"}, {'url': 'https://world-weather.info/forecast/usa/los_angeles/december-2024/', 'content': 'Detailed ⚡ Los Angeles Weather Forecast for December 2024 - day/night 🌡️ temperatures, precipitations - World-Weather.info ... Detailed ⚡ Los Angeles Weather Forecast for December 2024 - day/night 🌡️ temperatures, precipitations - World-Weather.info ... 18 +55° +52° 19 +57° +55° 20'}]\n"
          ]
        }
      ]
    },
    {
      "cell_type": "code",
      "source": [
        "!pip install -qU langchain-groq"
      ],
      "metadata": {
        "colab": {
          "base_uri": "https://localhost:8080/"
        },
        "id": "JQlVXeGudEQa",
        "outputId": "72e97148-d3c5-44db-ef78-6ea7839847de"
      },
      "execution_count": null,
      "outputs": [
        {
          "output_type": "stream",
          "name": "stdout",
          "text": [
            "\u001b[?25l   \u001b[90m━━━━━━━━━━━━━━━━━━━━━━━━━━━━━━━━━━━━━━━━\u001b[0m \u001b[32m0.0/109.1 kB\u001b[0m \u001b[31m?\u001b[0m eta \u001b[36m-:--:--\u001b[0m\r\u001b[2K   \u001b[91m━━━━━━━━━━━━━━━━━━━━━━━━━━━━━━━━━━━━━\u001b[0m\u001b[91m╸\u001b[0m\u001b[90m━━\u001b[0m \u001b[32m102.4/109.1 kB\u001b[0m \u001b[31m4.2 MB/s\u001b[0m eta \u001b[36m0:00:01\u001b[0m\r\u001b[2K   \u001b[90m━━━━━━━━━━━━━━━━━━━━━━━━━━━━━━━━━━━━━━━━\u001b[0m \u001b[32m109.1/109.1 kB\u001b[0m \u001b[31m2.7 MB/s\u001b[0m eta \u001b[36m0:00:00\u001b[0m\n",
            "\u001b[?25h"
          ]
        }
      ]
    },
    {
      "cell_type": "code",
      "source": [
        "import getpass\n",
        "import os\n",
        "\n",
        "if not os.environ.get(\"GROQ_API_KEY\"):\n",
        "  os.environ[\"GROQ_API_KEY\"] = getpass.getpass(\"Enter API key for Groq: \")\n",
        "\n",
        "from langchain_groq import ChatGroq\n",
        "\n",
        "model = ChatGroq(model=\"llama3-8b-8192\")"
      ],
      "metadata": {
        "colab": {
          "base_uri": "https://localhost:8080/"
        },
        "id": "d2JjVI4weMWG",
        "outputId": "02d730ee-e253-4a06-94ff-39ca35cdd510"
      },
      "execution_count": null,
      "outputs": [
        {
          "name": "stdout",
          "output_type": "stream",
          "text": [
            "Enter API key for Groq: ··········\n"
          ]
        }
      ]
    },
    {
      "cell_type": "code",
      "source": [
        "!pip install -qU langchain-cohere"
      ],
      "metadata": {
        "colab": {
          "base_uri": "https://localhost:8080/"
        },
        "id": "rWSGE09tvfBZ",
        "outputId": "5bb067ab-1d39-4538-9ad9-be0fbdb0b024"
      },
      "execution_count": null,
      "outputs": [
        {
          "output_type": "stream",
          "name": "stdout",
          "text": [
            "\u001b[?25l   \u001b[90m━━━━━━━━━━━━━━━━━━━━━━━━━━━━━━━━━━━━━━━━\u001b[0m \u001b[32m0.0/44.3 kB\u001b[0m \u001b[31m?\u001b[0m eta \u001b[36m-:--:--\u001b[0m\r\u001b[2K   \u001b[90m━━━━━━━━━━━━━━━━━━━━━━━━━━━━━━━━━━━━━━━━\u001b[0m \u001b[32m44.3/44.3 kB\u001b[0m \u001b[31m1.9 MB/s\u001b[0m eta \u001b[36m0:00:00\u001b[0m\n",
            "\u001b[?25h\u001b[?25l   \u001b[90m━━━━━━━━━━━━━━━━━━━━━━━━━━━━━━━━━━━━━━━━\u001b[0m \u001b[32m0.0/249.9 kB\u001b[0m \u001b[31m?\u001b[0m eta \u001b[36m-:--:--\u001b[0m\r\u001b[2K   \u001b[90m━━━━━━━━━━━━━━━━━━━━━━━━━━━━━━━━━━━━━━━━\u001b[0m \u001b[32m249.9/249.9 kB\u001b[0m \u001b[31m8.6 MB/s\u001b[0m eta \u001b[36m0:00:00\u001b[0m\n",
            "\u001b[2K   \u001b[90m━━━━━━━━━━━━━━━━━━━━━━━━━━━━━━━━━━━━━━━━\u001b[0m \u001b[32m209.0/209.0 kB\u001b[0m \u001b[31m14.4 MB/s\u001b[0m eta \u001b[36m0:00:00\u001b[0m\n",
            "\u001b[2K   \u001b[90m━━━━━━━━━━━━━━━━━━━━━━━━━━━━━━━━━━━━━━━━\u001b[0m \u001b[32m3.1/3.1 MB\u001b[0m \u001b[31m48.9 MB/s\u001b[0m eta \u001b[36m0:00:00\u001b[0m\n",
            "\u001b[?25h"
          ]
        }
      ]
    },
    {
      "cell_type": "code",
      "source": [
        "!pip install -qU langchain-openai"
      ],
      "metadata": {
        "colab": {
          "base_uri": "https://localhost:8080/"
        },
        "id": "vCP_UDWy3gF6",
        "outputId": "cd46c7fa-00a9-438f-9efa-c5f994f51040"
      },
      "execution_count": null,
      "outputs": [
        {
          "output_type": "stream",
          "name": "stdout",
          "text": [
            "\u001b[?25l   \u001b[90m━━━━━━━━━━━━━━━━━━━━━━━━━━━━━━━━━━━━━━━━\u001b[0m \u001b[32m0.0/50.7 kB\u001b[0m \u001b[31m?\u001b[0m eta \u001b[36m-:--:--\u001b[0m\r\u001b[2K   \u001b[90m━━━━━━━━━━━━━━━━━━━━━━━━━━━━━━━━━━━━━━━━\u001b[0m \u001b[32m50.7/50.7 kB\u001b[0m \u001b[31m2.1 MB/s\u001b[0m eta \u001b[36m0:00:00\u001b[0m\n",
            "\u001b[?25h\u001b[?25l   \u001b[90m━━━━━━━━━━━━━━━━━━━━━━━━━━━━━━━━━━━━━━━━\u001b[0m \u001b[32m0.0/454.3 kB\u001b[0m \u001b[31m?\u001b[0m eta \u001b[36m-:--:--\u001b[0m\r\u001b[2K   \u001b[91m━━━━━━━━━━━━━━━━━━━━━━━━━━━━━━━━━━━━━━━\u001b[0m\u001b[91m╸\u001b[0m \u001b[32m450.6/454.3 kB\u001b[0m \u001b[31m15.3 MB/s\u001b[0m eta \u001b[36m0:00:01\u001b[0m\r\u001b[2K   \u001b[90m━━━━━━━━━━━━━━━━━━━━━━━━━━━━━━━━━━━━━━━━\u001b[0m \u001b[32m454.3/454.3 kB\u001b[0m \u001b[31m9.8 MB/s\u001b[0m eta \u001b[36m0:00:00\u001b[0m\n",
            "\u001b[?25h"
          ]
        }
      ]
    },
    {
      "cell_type": "code",
      "source": [
        "!pip install -qU langchain-anthropic"
      ],
      "metadata": {
        "id": "9P2FxSbS3zMm"
      },
      "execution_count": null,
      "outputs": []
    },
    {
      "cell_type": "code",
      "source": [
        "import getpass\n",
        "import os\n",
        "\n",
        "if not os.environ.get(\"ANTHROPIC_API_KEY\"):\n",
        "  os.environ[\"ANTHROPIC_API_KEY\"] = getpass.getpass(\"Enter API key for Anthropic: \")\n",
        "\n",
        "from langchain_anthropic import ChatAnthropic\n",
        "\n",
        "model = ChatAnthropic(model=\"claude-3-5-sonnet\")"
      ],
      "metadata": {
        "colab": {
          "base_uri": "https://localhost:8080/"
        },
        "id": "Z-uo0wAr32ti",
        "outputId": "ca7a200b-35da-4248-c163-9d2a6ca84d2d"
      },
      "execution_count": null,
      "outputs": [
        {
          "name": "stdout",
          "output_type": "stream",
          "text": [
            "Enter API key for Anthropic: ··········\n"
          ]
        }
      ]
    },
    {
      "cell_type": "code",
      "source": [
        "if not os.environ.get(\"OPENAI_API_KEY\"):\n",
        "  os.environ[\"OPENAI_API_KEY\"] = getpass.getpass(\"Enter API key for OpenAI: \")\n",
        "\n",
        "from langchain_openai import ChatOpenAI\n",
        "\n",
        "model = ChatOpenAI(model=\"gpt-3\")"
      ],
      "metadata": {
        "colab": {
          "base_uri": "https://localhost:8080/"
        },
        "id": "zyHJTeEs3c7j",
        "outputId": "94039db7-26ee-4bbd-8c37-8806cd78f0c4"
      },
      "execution_count": null,
      "outputs": [
        {
          "name": "stdout",
          "output_type": "stream",
          "text": [
            "Enter API key for OpenAI: ··········\n"
          ]
        }
      ]
    },
    {
      "cell_type": "code",
      "source": [
        "if not os.environ.get(\"COHERE_API_KEY\"):\n",
        "  os.environ[\"COHERE_API_KEY\"] = getpass.getpass(\"Enter the API key for Cohere:\")\n",
        "from langchain_cohere import ChatCohere\n",
        "\n",
        "model = ChatCohere(model = \"command-r\")\n"
      ],
      "metadata": {
        "id": "eVhszw7XwIuh"
      },
      "execution_count": null,
      "outputs": []
    },
    {
      "cell_type": "code",
      "source": [
        "from langchain_core.messages import HumanMessage\n",
        "\n",
        "response = model.invoke([HumanMessage(content=\"hi!\")])\n",
        "response.content"
      ],
      "metadata": {
        "colab": {
          "base_uri": "https://localhost:8080/",
          "height": 35
        },
        "id": "LMb9mqLsxX5f",
        "outputId": "02686414-5d5e-4ca6-e243-234d9828b88c"
      },
      "execution_count": null,
      "outputs": [
        {
          "output_type": "execute_result",
          "data": {
            "text/plain": [
              "\"Hi! It's nice to meet you. Is there something I can help you with or would you like to chat?\""
            ],
            "application/vnd.google.colaboratory.intrinsic+json": {
              "type": "string"
            }
          },
          "metadata": {},
          "execution_count": 10
        }
      ]
    },
    {
      "cell_type": "markdown",
      "source": [
        "Now we binding the tools with our model"
      ],
      "metadata": {
        "id": "WJKV52w9x186"
      }
    },
    {
      "cell_type": "code",
      "source": [
        "model_with_tools = model.bind_tools(tools)"
      ],
      "metadata": {
        "id": "rbFID1AOxjOh"
      },
      "execution_count": null,
      "outputs": []
    },
    {
      "cell_type": "code",
      "source": [
        "response = model_with_tools.invoke([HumanMessage(content = \"Hi!\")])\n",
        "\n",
        "print(f\"ContentString: {response.content}\")\n",
        "print(f\"ToolCalls: {response.tool_calls}\")"
      ],
      "metadata": {
        "colab": {
          "base_uri": "https://localhost:8080/"
        },
        "id": "43AgMRrcyIxH",
        "outputId": "92ee6b9f-d4ad-40ee-a2e8-ac1d5d074ac5"
      },
      "execution_count": null,
      "outputs": [
        {
          "output_type": "stream",
          "name": "stdout",
          "text": [
            "ContentString: \n",
            "ToolCalls: [{'name': 'tavily_search_results_json', 'args': {'query': 'Hi!'}, 'id': 'call_0vcb', 'type': 'tool_call'}]\n"
          ]
        }
      ]
    },
    {
      "cell_type": "code",
      "source": [
        "response = model_with_tools.invoke([HumanMessage(content=\"What's the weather in SF?\")])\n",
        "\n",
        "print(f\"ContentString: {response.content}\")\n",
        "print(f\"ToolCalls: {response.tool_calls}\")"
      ],
      "metadata": {
        "colab": {
          "base_uri": "https://localhost:8080/"
        },
        "id": "Uuw3wAA7ydu-",
        "outputId": "18b9f1b0-e0be-47c4-cda5-0f287253835d"
      },
      "execution_count": null,
      "outputs": [
        {
          "output_type": "stream",
          "name": "stdout",
          "text": [
            "ContentString: \n",
            "ToolCalls: [{'name': 'tavily_search_results_json', 'args': {'query': 'weather in San Francisco'}, 'id': 'call_vrnt', 'type': 'tool_call'}]\n"
          ]
        }
      ]
    },
    {
      "cell_type": "code",
      "source": [
        "from langgraph.prebuilt import create_react_agent\n",
        "agent_executor = create_react_agent(model, tools)"
      ],
      "metadata": {
        "id": "jy2xR61Beywj"
      },
      "execution_count": null,
      "outputs": []
    },
    {
      "cell_type": "code",
      "source": [
        "response = agent_executor.invoke({\"messages\" : [HumanMessage(content = \"hi!\")]})\n",
        "\n",
        "response[\"messages\"]"
      ],
      "metadata": {
        "colab": {
          "base_uri": "https://localhost:8080/"
        },
        "id": "7nR0Jkx5f5J1",
        "outputId": "bfc20f10-5ef0-4c8f-d50e-0d33d007a55e"
      },
      "execution_count": null,
      "outputs": [
        {
          "output_type": "execute_result",
          "data": {
            "text/plain": [
              "[HumanMessage(content='hi!', additional_kwargs={}, response_metadata={}, id='0280e7da-c86c-4e56-b3d4-e4040f01c008'),\n",
              " AIMessage(content='Hello!', additional_kwargs={}, response_metadata={'token_usage': {'completion_tokens': 3, 'prompt_tokens': 1901, 'total_tokens': 1904, 'completion_time': 0.0025, 'prompt_time': 0.241132042, 'queue_time': -0.306439321, 'total_time': 0.243632042}, 'model_name': 'llama3-8b-8192', 'system_fingerprint': 'fp_6a6771ae9c', 'finish_reason': 'stop', 'logprobs': None}, id='run-af2bbdcc-a582-4af0-aaa0-3d7b2e482a2c-0', usage_metadata={'input_tokens': 1901, 'output_tokens': 3, 'total_tokens': 1904})]"
            ]
          },
          "metadata": {},
          "execution_count": 15
        }
      ]
    },
    {
      "cell_type": "code",
      "source": [
        "response = agent_executor.invoke(\n",
        "    {\"messages\": [HumanMessage(content=\"whats the weather in LA?\")]}\n",
        ")\n",
        "response[\"messages\"]"
      ],
      "metadata": {
        "colab": {
          "base_uri": "https://localhost:8080/"
        },
        "id": "T8RU-VFkgqv8",
        "outputId": "f5aba321-96ca-48bf-df33-e51067fe87dc"
      },
      "execution_count": null,
      "outputs": [
        {
          "output_type": "execute_result",
          "data": {
            "text/plain": [
              "[HumanMessage(content='whats the weather in LA?', additional_kwargs={}, response_metadata={}, id='08b3d5ff-e563-475c-8db9-d56a13e18248'),\n",
              " AIMessage(content='', additional_kwargs={'tool_calls': [{'id': 'call_hr4j', 'function': {'arguments': '{\"query\":\"weather in los angeles\"}', 'name': 'tavily_search_results_json'}, 'type': 'function'}]}, response_metadata={'token_usage': {'completion_tokens': 74, 'prompt_tokens': 1912, 'total_tokens': 1986, 'completion_time': 0.061666667, 'prompt_time': 0.238635832, 'queue_time': -0.321927764, 'total_time': 0.300302499}, 'model_name': 'llama3-8b-8192', 'system_fingerprint': 'fp_6a6771ae9c', 'finish_reason': 'tool_calls', 'logprobs': None}, id='run-fcc22295-a249-49da-b866-66e50c9fc49f-0', tool_calls=[{'name': 'tavily_search_results_json', 'args': {'query': 'weather in los angeles'}, 'id': 'call_hr4j', 'type': 'tool_call'}], usage_metadata={'input_tokens': 1912, 'output_tokens': 74, 'total_tokens': 1986}),\n",
              " ToolMessage(content='[{\"url\": \"https://www.weatherapi.com/\", \"content\": \"{\\'location\\': {\\'name\\': \\'Los Angeles\\', \\'region\\': \\'California\\', \\'country\\': \\'United States of America\\', \\'lat\\': 34.0522, \\'lon\\': -118.2428, \\'tz_id\\': \\'America/Los_Angeles\\', \\'localtime_epoch\\': 1734487691, \\'localtime\\': \\'2024-12-17 18:08\\'}, \\'current\\': {\\'last_updated_epoch\\': 1734487200, \\'last_updated\\': \\'2024-12-17 18:00\\', \\'temp_c\\': 22.1, \\'temp_f\\': 71.8, \\'is_day\\': 0, \\'condition\\': {\\'text\\': \\'Clear\\', \\'icon\\': \\'//cdn.weatherapi.com/weather/64x64/night/113.png\\', \\'code\\': 1000}, \\'wind_mph\\': 2.9, \\'wind_kph\\': 4.7, \\'wind_degree\\': 298, \\'wind_dir\\': \\'WNW\\', \\'pressure_mb\\': 1018.0, \\'pressure_in\\': 30.06, \\'precip_mm\\': 0.0, \\'precip_in\\': 0.0, \\'humidity\\': 25, \\'cloud\\': 0, \\'feelslike_c\\': 23.1, \\'feelslike_f\\': 73.6, \\'windchill_c\\': 23.5, \\'windchill_f\\': 74.3, \\'heatindex_c\\': 23.6, \\'heatindex_f\\': 74.5, \\'dewpoint_c\\': 3.8, \\'dewpoint_f\\': 38.8, \\'vis_km\\': 16.0, \\'vis_miles\\': 9.0, \\'uv\\': 0.0, \\'gust_mph\\': 5.5, \\'gust_kph\\': 8.9}}\"}, {\"url\": \"https://world-weather.info/forecast/usa/los_angeles/december-2024/\", \"content\": \"Detailed ⚡ Los Angeles Weather Forecast for December 2024 - day/night 🌡️ temperatures, precipitations - World-Weather.info ... Detailed ⚡ Los Angeles Weather Forecast for December 2024 - day/night 🌡️ temperatures, precipitations - World-Weather.info ... 18 +55° +52° 19 +57° +55° 20\"}]', name='tavily_search_results_json', id='4fef073d-632f-47b6-b7b9-917a6f32573f', tool_call_id='call_hr4j', artifact={'query': 'weather in los angeles', 'follow_up_questions': None, 'answer': None, 'images': [], 'results': [{'title': 'Weather in Los Angeles', 'url': 'https://www.weatherapi.com/', 'content': \"{'location': {'name': 'Los Angeles', 'region': 'California', 'country': 'United States of America', 'lat': 34.0522, 'lon': -118.2428, 'tz_id': 'America/Los_Angeles', 'localtime_epoch': 1734487691, 'localtime': '2024-12-17 18:08'}, 'current': {'last_updated_epoch': 1734487200, 'last_updated': '2024-12-17 18:00', 'temp_c': 22.1, 'temp_f': 71.8, 'is_day': 0, 'condition': {'text': 'Clear', 'icon': '//cdn.weatherapi.com/weather/64x64/night/113.png', 'code': 1000}, 'wind_mph': 2.9, 'wind_kph': 4.7, 'wind_degree': 298, 'wind_dir': 'WNW', 'pressure_mb': 1018.0, 'pressure_in': 30.06, 'precip_mm': 0.0, 'precip_in': 0.0, 'humidity': 25, 'cloud': 0, 'feelslike_c': 23.1, 'feelslike_f': 73.6, 'windchill_c': 23.5, 'windchill_f': 74.3, 'heatindex_c': 23.6, 'heatindex_f': 74.5, 'dewpoint_c': 3.8, 'dewpoint_f': 38.8, 'vis_km': 16.0, 'vis_miles': 9.0, 'uv': 0.0, 'gust_mph': 5.5, 'gust_kph': 8.9}}\", 'score': 0.999723, 'raw_content': None}, {'title': 'Weather in Los Angeles in December 2024', 'url': 'https://world-weather.info/forecast/usa/los_angeles/december-2024/', 'content': 'Detailed ⚡ Los Angeles Weather Forecast for December 2024 - day/night 🌡️ temperatures, precipitations - World-Weather.info ... Detailed ⚡ Los Angeles Weather Forecast for December 2024 - day/night 🌡️ temperatures, precipitations - World-Weather.info ... 18 +55° +52° 19 +57° +55° 20', 'score': 0.99957114, 'raw_content': None}], 'response_time': 2.42}),\n",
              " AIMessage(content='', additional_kwargs={'tool_calls': [{'id': 'call_ae1d', 'function': {'arguments': '{\"query\":\"22.1°C 71.8°F clear skies 55-57°C 52-55°C\"}', 'name': 'tavily_search_results_json'}, 'type': 'function'}]}, response_metadata={'token_usage': {'completion_tokens': 140, 'prompt_tokens': 1537, 'total_tokens': 1677, 'completion_time': 0.116666667, 'prompt_time': 0.212321158, 'queue_time': 0.0017229899999999798, 'total_time': 0.328987825}, 'model_name': 'llama3-8b-8192', 'system_fingerprint': 'fp_179b0f92c9', 'finish_reason': 'tool_calls', 'logprobs': None}, id='run-a6293ced-8224-44ff-865e-908a98cf9248-0', tool_calls=[{'name': 'tavily_search_results_json', 'args': {'query': '22.1°C 71.8°F clear skies 55-57°C 52-55°C'}, 'id': 'call_ae1d', 'type': 'tool_call'}], usage_metadata={'input_tokens': 1537, 'output_tokens': 140, 'total_tokens': 1677}),\n",
              " ToolMessage(content='[{\"url\": \"https://tgftp.nws.noaa.gov/weather/current/KXMR.html\", \"content\": \"1/2 mile(s) Sky conditions : clear Weather : Fog Temperature : 55 F (13 C) Dew Point ... 71.8 (22.1) 56.1 (13.4) 30.21 (1023) NNW 8: 9 AM (14) Nov 25: 66.9 (19.4) ... 54.3 (12.4) 52.7 (11.5) 30.16 (1021) NW 5: mist: 6 AM (11) Nov 25: 58.5 (14.7) 55.2 (12.9) 30.14 (1020) NW 3: 5 AM (10) Nov 25: 55.0 (12.8) 52.5 (11.4) 30.13 (1020) NW 6: 4 AM (9\"}, {\"url\": \"https://quizlet.com/875907261/206-set-2-flash-cards/\", \"content\": \"Study with Quizlet and memorize flashcards containing terms like 36 °F, 12 °C, decrease; increase and more. ... Clear skies at night lead to _____ cloudy skies at night. 3 PM. When is the warmest part of a typical day?\"}]', name='tavily_search_results_json', id='88f4cfc2-37d2-43b4-9224-111507f6d1b3', tool_call_id='call_ae1d', artifact={'query': '22.1°C 71.8°F clear skies 55-57°C 52-55°C', 'follow_up_questions': None, 'answer': None, 'images': [], 'results': [{'title': 'Current Weather Conditions: - National Oceanic and Atmospheric ...', 'url': 'https://tgftp.nws.noaa.gov/weather/current/KXMR.html', 'content': '1/2 mile(s) Sky conditions : clear Weather : Fog Temperature : 55 F (13 C) Dew Point ... 71.8 (22.1) 56.1 (13.4) 30.21 (1023) NNW 8: 9 AM (14) Nov 25: 66.9 (19.4) ... 54.3 (12.4) 52.7 (11.5) 30.16 (1021) NW 5: mist: 6 AM (11) Nov 25: 58.5 (14.7) 55.2 (12.9) 30.14 (1020) NW 3: 5 AM (10) Nov 25: 55.0 (12.8) 52.5 (11.4) 30.13 (1020) NW 6: 4 AM (9', 'score': 0.98947024, 'raw_content': None}, {'title': '206 Set 2 Flashcards - Quizlet', 'url': 'https://quizlet.com/875907261/206-set-2-flash-cards/', 'content': 'Study with Quizlet and memorize flashcards containing terms like 36 °F, 12 °C, decrease; increase and more. ... Clear skies at night lead to _____ cloudy skies at night. 3 PM. When is the warmest part of a typical day?', 'score': 0.2961451, 'raw_content': None}], 'response_time': 2.9}),\n",
              " AIMessage(content='The weather in LA is clear with a temperature of 22.1°C (71.8°F) and feels like 23.1°C (73.6°F). The current temperature is 22.1°C (71.8°F) and is expected to stay around 55-57°C (131-135°F) throughout the day.', additional_kwargs={}, response_metadata={'token_usage': {'completion_tokens': 72, 'prompt_tokens': 1942, 'total_tokens': 2014, 'completion_time': 0.06, 'prompt_time': 0.24567748, 'queue_time': 0.0016732529999999857, 'total_time': 0.30567748}, 'model_name': 'llama3-8b-8192', 'system_fingerprint': 'fp_179b0f92c9', 'finish_reason': 'stop', 'logprobs': None}, id='run-3331fc3f-9ba8-4751-89ef-14c9a2a7a182-0', usage_metadata={'input_tokens': 1942, 'output_tokens': 72, 'total_tokens': 2014})]"
            ]
          },
          "metadata": {},
          "execution_count": 18
        }
      ]
    },
    {
      "cell_type": "code",
      "source": [
        "for chunk in agent_executor.stream(\n",
        "    {\n",
        "        \"messages\" : [HumanMessage(content = \"whats weather in SF?\")]\n",
        "    }\n",
        "):\n",
        "  print(chunk)\n",
        "  print(\"---\")"
      ],
      "metadata": {
        "colab": {
          "base_uri": "https://localhost:8080/"
        },
        "id": "reNQPlmRhA1s",
        "outputId": "f0c8cdd0-cd2e-4126-8537-78a65ec92d3a"
      },
      "execution_count": null,
      "outputs": [
        {
          "output_type": "stream",
          "name": "stdout",
          "text": [
            "{'agent': {'messages': [AIMessage(content='', additional_kwargs={'tool_calls': [{'id': 'call_w6fh', 'function': {'arguments': '{\"query\":\"weather in San Francisco\"}', 'name': 'tavily_search_results_json'}, 'type': 'function'}]}, response_metadata={'token_usage': {'completion_tokens': 80, 'prompt_tokens': 945, 'total_tokens': 1025, 'completion_time': 0.066666667, 'prompt_time': 0.116183943, 'queue_time': 0.0005433690000000019, 'total_time': 0.18285061}, 'model_name': 'llama3-8b-8192', 'system_fingerprint': 'fp_a97cfe35ae', 'finish_reason': 'tool_calls', 'logprobs': None}, id='run-3e2a2714-6c7f-4beb-9c4e-9da030559eb0-0', tool_calls=[{'name': 'tavily_search_results_json', 'args': {'query': 'weather in San Francisco'}, 'id': 'call_w6fh', 'type': 'tool_call'}], usage_metadata={'input_tokens': 945, 'output_tokens': 80, 'total_tokens': 1025})]}}\n",
            "---\n",
            "{'tools': {'messages': [ToolMessage(content='[{\"url\": \"https://www.weatherapi.com/\", \"content\": \"{\\'location\\': {\\'name\\': \\'San Francisco\\', \\'region\\': \\'California\\', \\'country\\': \\'United States of America\\', \\'lat\\': 37.775, \\'lon\\': -122.4183, \\'tz_id\\': \\'America/Los_Angeles\\', \\'localtime_epoch\\': 1734489466, \\'localtime\\': \\'2024-12-17 18:37\\'}, \\'current\\': {\\'last_updated_epoch\\': 1734489000, \\'last_updated\\': \\'2024-12-17 18:30\\', \\'temp_c\\': 12.3, \\'temp_f\\': 54.1, \\'is_day\\': 0, \\'condition\\': {\\'text\\': \\'Clear\\', \\'icon\\': \\'//cdn.weatherapi.com/weather/64x64/night/113.png\\', \\'code\\': 1000}, \\'wind_mph\\': 5.4, \\'wind_kph\\': 8.6, \\'wind_degree\\': 347, \\'wind_dir\\': \\'NNW\\', \\'pressure_mb\\': 1027.0, \\'pressure_in\\': 30.32, \\'precip_mm\\': 0.0, \\'precip_in\\': 0.0, \\'humidity\\': 88, \\'cloud\\': 0, \\'feelslike_c\\': 11.6, \\'feelslike_f\\': 52.9, \\'windchill_c\\': 15.3, \\'windchill_f\\': 59.5, \\'heatindex_c\\': 15.3, \\'heatindex_f\\': 59.6, \\'dewpoint_c\\': 13.9, \\'dewpoint_f\\': 56.9, \\'vis_km\\': 11.0, \\'vis_miles\\': 6.0, \\'uv\\': 0.0, \\'gust_mph\\': 10.0, \\'gust_kph\\': 16.0}}\"}, {\"url\": \"https://www.weather25.com/north-america/usa/california/san-francisco?page=month&month=December\", \"content\": \"San Francisco weather in December 2024 | Weather25.com San Francisco weather in December 2024 | San Francisco in December | Temperatures in San Francisco in December Weather in San Francisco in December - FAQ The average temperature in San Francisco in December is 8/14° C. On average, there are 4 rainy days in San Francisco during December. Weather wise, is December a good time to visit San Francisco? The weather in San Francisco in December is good. On average, there are 0 snowy days in San Francisco in December. More about the weather in San Francisco San Francisco 14 day weather Long range weather for San Francisco San Francisco weather in November San Francisco Webcam Weather tomorrow Hotels in San Francisco\"}]', name='tavily_search_results_json', id='d2f1ebeb-a121-4df5-9419-8ca3481d979f', tool_call_id='call_w6fh', artifact={'query': 'weather in San Francisco', 'follow_up_questions': None, 'answer': None, 'images': [], 'results': [{'title': 'Weather in San Francisco', 'url': 'https://www.weatherapi.com/', 'content': \"{'location': {'name': 'San Francisco', 'region': 'California', 'country': 'United States of America', 'lat': 37.775, 'lon': -122.4183, 'tz_id': 'America/Los_Angeles', 'localtime_epoch': 1734489466, 'localtime': '2024-12-17 18:37'}, 'current': {'last_updated_epoch': 1734489000, 'last_updated': '2024-12-17 18:30', 'temp_c': 12.3, 'temp_f': 54.1, 'is_day': 0, 'condition': {'text': 'Clear', 'icon': '//cdn.weatherapi.com/weather/64x64/night/113.png', 'code': 1000}, 'wind_mph': 5.4, 'wind_kph': 8.6, 'wind_degree': 347, 'wind_dir': 'NNW', 'pressure_mb': 1027.0, 'pressure_in': 30.32, 'precip_mm': 0.0, 'precip_in': 0.0, 'humidity': 88, 'cloud': 0, 'feelslike_c': 11.6, 'feelslike_f': 52.9, 'windchill_c': 15.3, 'windchill_f': 59.5, 'heatindex_c': 15.3, 'heatindex_f': 59.6, 'dewpoint_c': 13.9, 'dewpoint_f': 56.9, 'vis_km': 11.0, 'vis_miles': 6.0, 'uv': 0.0, 'gust_mph': 10.0, 'gust_kph': 16.0}}\", 'score': 0.9976672, 'raw_content': None}, {'title': 'San Francisco weather in December 2024 | Weather25.com', 'url': 'https://www.weather25.com/north-america/usa/california/san-francisco?page=month&month=December', 'content': 'San Francisco weather in December 2024 | Weather25.com San Francisco weather in December 2024 | San Francisco in December | Temperatures in San Francisco in December Weather in San Francisco in December - FAQ The average temperature in San Francisco in December is 8/14° C. On average, there are 4 rainy days in San Francisco during December. Weather wise, is December a good time to visit San Francisco? The weather in San Francisco in December is good. On average, there are 0 snowy days in San Francisco in December. More about the weather in San Francisco San Francisco 14 day weather Long range weather for San Francisco San Francisco weather in November San Francisco Webcam Weather tomorrow Hotels in San Francisco', 'score': 0.98922324, 'raw_content': None}], 'response_time': 2.55})]}}\n",
            "---\n",
            "{'agent': {'messages': [AIMessage(content='Based on the response from the tool, it seems that the weather in San Francisco is currently clear with a temperature of 12.3°C (54.1°F). According to the long-range forecast, December is a good time to visit San Francisco, with average temperatures ranging from 8°C to 14°C (46.4°F to 57.2°F).', additional_kwargs={}, response_metadata={'token_usage': {'completion_tokens': 76, 'prompt_tokens': 1603, 'total_tokens': 1679, 'completion_time': 0.063333333, 'prompt_time': 0.197767058, 'queue_time': 0.0008799120000000105, 'total_time': 0.261100391}, 'model_name': 'llama3-8b-8192', 'system_fingerprint': 'fp_6a6771ae9c', 'finish_reason': 'stop', 'logprobs': None}, id='run-b185ca05-8818-4b74-9dbf-f47c7929d8e4-0', usage_metadata={'input_tokens': 1603, 'output_tokens': 76, 'total_tokens': 1679})]}}\n",
            "---\n"
          ]
        }
      ]
    },
    {
      "cell_type": "markdown",
      "source": [
        "#To add the memory"
      ],
      "metadata": {
        "id": "5NNFKyqgpr9u"
      }
    },
    {
      "cell_type": "code",
      "source": [
        "from langgraph.checkpoint.memory import MemorySaver\n",
        "\n",
        "memory = MemorySaver()"
      ],
      "metadata": {
        "id": "IJafuL8VoTQH"
      },
      "execution_count": null,
      "outputs": []
    },
    {
      "cell_type": "code",
      "source": [
        "agent_executor = create_react_agent(model, tools, checkpointer= memory)\n",
        "\n",
        "config = {\"configurable\" : {\"thread_id\" : \"abc123\"}}"
      ],
      "metadata": {
        "id": "yCRG8hKgppvh"
      },
      "execution_count": null,
      "outputs": []
    },
    {
      "cell_type": "code",
      "source": [
        "for chunk in agent_executor.stream(\n",
        "    {\"messages\": [HumanMessage(content=\"hi im bob!\")]}, config\n",
        "):\n",
        "    print(chunk)\n",
        "    print(\"----\")"
      ],
      "metadata": {
        "colab": {
          "base_uri": "https://localhost:8080/"
        },
        "id": "scn1uOZeqAKL",
        "outputId": "40f3c1cf-73b2-4a8f-ed0d-c40a64dd41b7"
      },
      "execution_count": null,
      "outputs": [
        {
          "output_type": "stream",
          "name": "stdout",
          "text": [
            "{'agent': {'messages': [AIMessage(content='', additional_kwargs={'tool_calls': [{'id': 'call_0x4w', 'function': {'arguments': '{\"query\":\"hi im bob\"}', 'name': 'tavily_search_results_json'}, 'type': 'function'}]}, response_metadata={'token_usage': {'completion_tokens': 72, 'prompt_tokens': 943, 'total_tokens': 1015, 'completion_time': 0.06, 'prompt_time': 0.122777288, 'queue_time': 0.0007954599999999978, 'total_time': 0.182777288}, 'model_name': 'llama3-8b-8192', 'system_fingerprint': 'fp_6a6771ae9c', 'finish_reason': 'tool_calls', 'logprobs': None}, id='run-f62cae7b-2f05-4c1b-bfa8-d802b2565766-0', tool_calls=[{'name': 'tavily_search_results_json', 'args': {'query': 'hi im bob'}, 'id': 'call_0x4w', 'type': 'tool_call'}], usage_metadata={'input_tokens': 943, 'output_tokens': 72, 'total_tokens': 1015})]}}\n",
            "----\n",
            "{'tools': {'messages': [ToolMessage(content='[{\"url\": \"https://www.allthelyrics.com/lyrics/disney-hi_im_bob\", \"content\": \"Hi I\\'m bob I\\'m a goldfish And a goldfish has a memory of a ... Hi I\\'m bob I\\'m a goldfish And a goldfish has a memory of a\"}, {\"url\": \"https://www.fastslang.com/hi-bob\", \"content\": \"Hi Bob - Slang Meaning and Examples - FastSlang Try*   Fast Emoji FE Hi Bob \\\\\"Hi Bob\\\\\" is a slang term used to greet someone named Bob. It is often used in casual settings and can be seen as a friendly and informal way of saying hello. One theory suggests that \\\\\"Hi Bob\\\\\" originated from a TV show called \\\\\"The Bob Newhart Show,\\\\\" which aired in the 1970s. Another theory suggests that \\\\\"Hi Bob\\\\\" may have originated from the military. According to this theory, soldiers would use the phrase to greet their commanding officer, whose name was often Bob. Over time, the phrase became more widely used and lost its military connotations. Regardless of its origins, \\\\\"Hi Bob\\\\\" has become a popular greeting in many circles.\"}]', name='tavily_search_results_json', id='bd76eb91-a519-4f87-9870-92075af6ee71', tool_call_id='call_0x4w', artifact={'query': 'hi im bob', 'follow_up_questions': None, 'answer': None, 'images': [], 'results': [{'title': \"Disney - Hi I'm bob | All The Lyrics\", 'url': 'https://www.allthelyrics.com/lyrics/disney-hi_im_bob', 'content': \"Hi I'm bob I'm a goldfish And a goldfish has a memory of a ... Hi I'm bob I'm a goldfish And a goldfish has a memory of a\", 'score': 0.9996526, 'raw_content': None}, {'title': 'Hi Bob - Slang Meaning and Examples - FastSlang', 'url': 'https://www.fastslang.com/hi-bob', 'content': 'Hi Bob - Slang Meaning and Examples - FastSlang Try*   Fast Emoji FE Hi Bob \"Hi Bob\" is a slang term used to greet someone named Bob. It is often used in casual settings and can be seen as a friendly and informal way of saying hello. One theory suggests that \"Hi Bob\" originated from a TV show called \"The Bob Newhart Show,\" which aired in the 1970s. Another theory suggests that \"Hi Bob\" may have originated from the military. According to this theory, soldiers would use the phrase to greet their commanding officer, whose name was often Bob. Over time, the phrase became more widely used and lost its military connotations. Regardless of its origins, \"Hi Bob\" has become a popular greeting in many circles.', 'score': 0.99758446, 'raw_content': None}], 'response_time': 2.77})]}}\n",
            "----\n",
            "{'agent': {'messages': [AIMessage(content='', additional_kwargs={'tool_calls': [{'id': 'call_vdc1', 'function': {'arguments': '{\"query\":\"meaning of hi bob\"}', 'name': 'tavily_search_results_json'}, 'type': 'function'}]}, response_metadata={'token_usage': {'completion_tokens': 40, 'prompt_tokens': 1258, 'total_tokens': 1298, 'completion_time': 0.033333333, 'prompt_time': 0.152287342, 'queue_time': 0.0005929640000000014, 'total_time': 0.185620675}, 'model_name': 'llama3-8b-8192', 'system_fingerprint': 'fp_a97cfe35ae', 'finish_reason': 'tool_calls', 'logprobs': None}, id='run-6fd553f4-f2c6-434e-9711-f21cdf94a51e-0', tool_calls=[{'name': 'tavily_search_results_json', 'args': {'query': 'meaning of hi bob'}, 'id': 'call_vdc1', 'type': 'tool_call'}], usage_metadata={'input_tokens': 1258, 'output_tokens': 40, 'total_tokens': 1298})]}}\n",
            "----\n",
            "{'tools': {'messages': [ToolMessage(content='[{\"url\": \"https://www.fastslang.com/hi-bob\", \"content\": \"Hi Bob - Slang Meaning and Examples - FastSlang Try*   Fast Emoji FE Hi Bob \\\\\"Hi Bob\\\\\" is a slang term used to greet someone named Bob. It is often used in casual settings and can be seen as a friendly and informal way of saying hello. One theory suggests that \\\\\"Hi Bob\\\\\" originated from a TV show called \\\\\"The Bob Newhart Show,\\\\\" which aired in the 1970s. Another theory suggests that \\\\\"Hi Bob\\\\\" may have originated from the military. According to this theory, soldiers would use the phrase to greet their commanding officer, whose name was often Bob. Over time, the phrase became more widely used and lost its military connotations. Regardless of its origins, \\\\\"Hi Bob\\\\\" has become a popular greeting in many circles.\"}, {\"url\": \"https://en.wikipedia.org/wiki/Hi,_Bob\", \"content\": \"Hi, Bob is a drinking game in which players watch The Bob Newhart Show and consume alcohol whenever a character utters the phrase \\\\\"Hi, Bob\\\\\".\"}]', name='tavily_search_results_json', id='36e0a50d-5458-45df-9b5b-6c83bfa7d923', tool_call_id='call_vdc1', artifact={'query': 'meaning of hi bob', 'follow_up_questions': None, 'answer': None, 'images': [], 'results': [{'title': 'Hi Bob - Slang Meaning and Examples - FastSlang', 'url': 'https://www.fastslang.com/hi-bob', 'content': 'Hi Bob - Slang Meaning and Examples - FastSlang Try*   Fast Emoji FE Hi Bob \"Hi Bob\" is a slang term used to greet someone named Bob. It is often used in casual settings and can be seen as a friendly and informal way of saying hello. One theory suggests that \"Hi Bob\" originated from a TV show called \"The Bob Newhart Show,\" which aired in the 1970s. Another theory suggests that \"Hi Bob\" may have originated from the military. According to this theory, soldiers would use the phrase to greet their commanding officer, whose name was often Bob. Over time, the phrase became more widely used and lost its military connotations. Regardless of its origins, \"Hi Bob\" has become a popular greeting in many circles.', 'score': 0.9997284, 'raw_content': None}, {'title': 'Hi, Bob - Wikipedia', 'url': 'https://en.wikipedia.org/wiki/Hi,_Bob', 'content': 'Hi, Bob is a drinking game in which players watch The Bob Newhart Show and consume alcohol whenever a character utters the phrase \"Hi, Bob\".', 'score': 0.9987649, 'raw_content': None}], 'response_time': 1.91})]}}\n",
            "----\n",
            "{'agent': {'messages': [AIMessage(content='<tool-use></tool-use>', additional_kwargs={}, response_metadata={'token_usage': {'completion_tokens': 8, 'prompt_tokens': 1557, 'total_tokens': 1565, 'completion_time': 0.006666667, 'prompt_time': 0.302737067, 'queue_time': 0.011122515, 'total_time': 0.309403734}, 'model_name': 'llama3-8b-8192', 'system_fingerprint': 'fp_6a6771ae9c', 'finish_reason': 'stop', 'logprobs': None}, id='run-2531c938-9769-47f6-9996-5cec376ed403-0', usage_metadata={'input_tokens': 1557, 'output_tokens': 8, 'total_tokens': 1565})]}}\n",
            "----\n"
          ]
        }
      ]
    },
    {
      "cell_type": "code",
      "source": [
        "for chunk in agent_executor.stream(\n",
        "    {\"messages\": [HumanMessage(content=\"whats my name?\")]}, config\n",
        "):\n",
        "    print(chunk)\n",
        "    print(\"----\")"
      ],
      "metadata": {
        "colab": {
          "base_uri": "https://localhost:8080/"
        },
        "id": "2OHViTCoqDkZ",
        "outputId": "22f94759-5f59-4555-dc3e-7a33191beaa5"
      },
      "execution_count": null,
      "outputs": [
        {
          "output_type": "stream",
          "name": "stdout",
          "text": [
            "{'agent': {'messages': [AIMessage(content='Your name is Bob!', additional_kwargs={}, response_metadata={'token_usage': {'completion_tokens': 6, 'prompt_tokens': 1579, 'total_tokens': 1585, 'completion_time': 0.005, 'prompt_time': 0.190122577, 'queue_time': 0.00040528400000000575, 'total_time': 0.195122577}, 'model_name': 'llama3-8b-8192', 'system_fingerprint': 'fp_a97cfe35ae', 'finish_reason': 'stop', 'logprobs': None}, id='run-7e5db938-ba33-44d4-906e-f4426bd0a264-0', usage_metadata={'input_tokens': 1579, 'output_tokens': 6, 'total_tokens': 1585})]}}\n",
            "----\n"
          ]
        }
      ]
    },
    {
      "cell_type": "code",
      "source": [],
      "metadata": {
        "id": "bXlrTJ5CqN9i"
      },
      "execution_count": null,
      "outputs": []
    }
  ]
}